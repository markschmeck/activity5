{
  "nbformat": 4,
  "nbformat_minor": 0,
  "metadata": {
    "colab": {
      "provenance": [],
      "include_colab_link": true
    },
    "kernelspec": {
      "name": "python3",
      "display_name": "Python 3"
    },
    "language_info": {
      "name": "python"
    }
  },
  "cells": [
    {
      "cell_type": "markdown",
      "metadata": {
        "id": "view-in-github",
        "colab_type": "text"
      },
      "source": [
        "<a href=\"https://colab.research.google.com/github/markschmeck/activity5/blob/main/CMPSC310_Activity11.ipynb\" target=\"_parent\"><img src=\"https://colab.research.google.com/assets/colab-badge.svg\" alt=\"Open In Colab\"/></a>"
      ]
    },
    {
      "cell_type": "markdown",
      "source": [
        "# **Activity 11: Distributions and Bayes Algorithm **\n"
      ],
      "metadata": {
        "id": "vcrrIOhGjS0Z"
      }
    },
    {
      "cell_type": "markdown",
      "source": [
        "## Binomial Distribution\n",
        "\n",
        "This looks to tell us about the number of trials that were done and the success rate of the trials. When the cell is ran, a plot appears with a sort of line graph that fluctuates moving from trial to trial, showing the number of trials that have been done as well as the sixe of the trials."
      ],
      "metadata": {
        "id": "17Be7mcYIcNk"
      }
    },
    {
      "cell_type": "code",
      "source": [
        "import numpy as np\n",
        "\n",
        "n=100 # number of trials\n",
        "p=0.5 # probability of success\n",
        "s=100 # size\n",
        "binomial = np.random.binomial(n,p,s)\n",
        "print(binomial)\n",
        "\n",
        "import matplotlib.pyplot as plt\n",
        "\n",
        "plt.axis([0, 100, 0, 100])\n",
        "plt.plot(binomial,linewidth=2, color='r')\n",
        "plt.show()"
      ],
      "metadata": {
        "id": "mySMxGBmN0pv"
      },
      "execution_count": null,
      "outputs": []
    },
    {
      "cell_type": "markdown",
      "source": [
        "## Uniform Distribution\n",
        "\n",
        "This distribution appears to have a similar function to the one above because we still see the same plot with the red fluctuating line graph. This one is different in shape however, appearing to have high maxs and mins as well as tons of variation in the points."
      ],
      "metadata": {
        "id": "j_CGIIhoInHn"
      }
    },
    {
      "cell_type": "code",
      "source": [
        "import numpy as np\n",
        "\n",
        "uniform = np.random.uniform(low=1, high=10,size=100)\n",
        "print(uniform)\n",
        "\n",
        "import matplotlib.pyplot as plt\n",
        "\n",
        "plt.axis([0, 100, 0, 10])\n",
        "plt.plot(uniform,linewidth=2, color='r')\n",
        "plt.show()"
      ],
      "metadata": {
        "id": "aCG1cMEacwtp"
      },
      "execution_count": null,
      "outputs": []
    },
    {
      "cell_type": "markdown",
      "source": [
        "## Normal Distribution\n",
        "\n",
        "This is another distribution similar to the others. In this one, it uses mean and standard deviation to help plot the points on the graph. This graph looks very different from the others as we can only see the peaks of the plotted lines without much else. Therefore, the plot is way different than before."
      ],
      "metadata": {
        "id": "p_BKTflFIpiB"
      }
    },
    {
      "cell_type": "code",
      "source": [
        "import numpy as np\n",
        "mu, sigma = 0, 0.1 # mean and standard deviation\n",
        "normal = np.random.normal(mu, sigma, 100)\n",
        "\n",
        "import matplotlib.pyplot as plt\n",
        "\n",
        "plt.axis([0, 100, 0, 1])\n",
        "plt.plot(normal,linewidth=2, color='r')\n",
        "plt.show()\n"
      ],
      "metadata": {
        "id": "sDe-nDVfR2G6"
      },
      "execution_count": null,
      "outputs": []
    },
    {
      "cell_type": "markdown",
      "source": [
        "## Bayes Algorithm\n",
        "\n",
        "TODO: Add experimentation\n",
        "\n",
        "Ref: https://scikit-learn.org/stable/modules/naive_bayes.html"
      ],
      "metadata": {
        "id": "JXg4ilpxPmON"
      }
    },
    {
      "cell_type": "code",
      "source": [
        "from sklearn.datasets import load_iris\n",
        "from sklearn.model_selection import train_test_split\n",
        "from sklearn.naive_bayes import GaussianNB # Gaussian is normal distribution\n",
        "X, y = load_iris(return_X_y=True) # https://scikit-learn.org/stable/modules/generated/sklearn.datasets.load_iris.html\n",
        "X_train, X_test, y_train, y_test = train_test_split(X, y, test_size=0.3, random_state=0)\n",
        "gnb = GaussianNB()\n",
        "gnb.fit(X_train, y_train)\n",
        "y_pred = gnb.predict(X_test)\n",
        "print(\"Number of mislabeled points out of a total %d points : %d\" % (X_test.shape[0], (y_test != y_pred).sum()))\n",
        "\n",
        "\n",
        "gnb.predict_proba(X_test)"
      ],
      "metadata": {
        "id": "BO57x41_aE-u",
        "outputId": "35dcadf0-5b01-4088-a12d-b5368a552af1",
        "colab": {
          "base_uri": "https://localhost:8080/"
        }
      },
      "execution_count": 3,
      "outputs": [
        {
          "output_type": "stream",
          "name": "stdout",
          "text": [
            "Number of mislabeled points out of a total 45 points : 0\n"
          ]
        },
        {
          "output_type": "execute_result",
          "data": {
            "text/plain": [
              "array([[2.44049291e-261, 1.75690913e-006, 9.99998243e-001],\n",
              "       [4.62772960e-087, 9.99997509e-001, 2.49062165e-006],\n",
              "       [1.00000000e+000, 5.86573779e-018, 8.16162532e-027],\n",
              "       [2.96439388e-323, 1.10744521e-006, 9.99998893e-001],\n",
              "       [1.00000000e+000, 3.17267813e-016, 5.32610050e-026],\n",
              "       [0.00000000e+000, 1.46019193e-010, 1.00000000e+000],\n",
              "       [1.00000000e+000, 4.31839423e-016, 7.65911289e-026],\n",
              "       [8.09217628e-158, 7.80399392e-001, 2.19600608e-001],\n",
              "       [7.24579939e-160, 9.08267456e-001, 9.17325438e-002],\n",
              "       [8.90967866e-101, 9.99849842e-001, 1.50157614e-004],\n",
              "       [1.04517663e-220, 4.70717779e-001, 5.29282221e-001],\n",
              "       [8.85444946e-143, 9.41915811e-001, 5.80841887e-002],\n",
              "       [3.77596535e-139, 9.98630652e-001, 1.36934795e-003],\n",
              "       [1.30323456e-150, 9.46178914e-001, 5.38210855e-002],\n",
              "       [1.08449063e-149, 9.85985808e-001, 1.40141923e-002],\n",
              "       [1.00000000e+000, 3.83418804e-018, 7.85663405e-028],\n",
              "       [7.01016623e-142, 9.85419351e-001, 1.45806489e-002],\n",
              "       [7.16055805e-118, 9.99914616e-001, 8.53835001e-005],\n",
              "       [1.00000000e+000, 6.39626694e-015, 4.16572092e-025],\n",
              "       [1.00000000e+000, 7.76488873e-015, 5.82768887e-024],\n",
              "       [3.67170758e-206, 1.26600665e-002, 9.87339934e-001],\n",
              "       [1.70231508e-140, 9.90462546e-001, 9.53745441e-003],\n",
              "       [1.00000000e+000, 1.71794714e-012, 5.25500293e-022],\n",
              "       [1.00000000e+000, 3.49431237e-016, 1.57424038e-026],\n",
              "       [3.03270765e-184, 1.64228493e-001, 8.35771507e-001],\n",
              "       [1.00000000e+000, 1.09159352e-017, 1.30921871e-027],\n",
              "       [1.00000000e+000, 2.43333047e-010, 2.95067533e-019],\n",
              "       [1.98124722e-118, 9.99164405e-001, 8.35595019e-004],\n",
              "       [1.17620199e-050, 9.99999941e-001, 5.94089228e-008],\n",
              "       [1.00000000e+000, 9.32372185e-013, 2.56485093e-022],\n",
              "       [4.67426565e-241, 1.49260307e-003, 9.98507397e-001],\n",
              "       [5.14576230e-140, 9.92493005e-001, 7.50699461e-003],\n",
              "       [1.00000000e+000, 3.86354187e-016, 9.29084517e-026],\n",
              "       [5.63793247e-191, 8.79746111e-002, 9.12025389e-001],\n",
              "       [9.10950943e-286, 1.64254114e-006, 9.99998357e-001],\n",
              "       [1.14528986e-098, 9.99928658e-001, 7.13417319e-005],\n",
              "       [1.00000000e+000, 5.51173269e-013, 7.15786344e-022],\n",
              "       [1.75101908e-191, 5.58218381e-001, 4.41781619e-001],\n",
              "       [1.06915390e-122, 9.96233033e-001, 3.76696707e-003],\n",
              "       [5.54964397e-095, 9.99978266e-001, 2.17341565e-005],\n",
              "       [2.06107497e-269, 4.57003409e-006, 9.99995430e-001],\n",
              "       [1.00000000e+000, 6.30209004e-017, 4.61908150e-027],\n",
              "       [4.38423612e-256, 6.23855528e-007, 9.99999376e-001],\n",
              "       [9.99999988e-001, 1.22108747e-008, 8.36490107e-018],\n",
              "       [1.00000000e+000, 3.01720586e-016, 1.36557087e-025]])"
            ]
          },
          "metadata": {},
          "execution_count": 3
        }
      ]
    }
  ]
}